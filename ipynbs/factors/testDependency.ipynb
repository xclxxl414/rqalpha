{
 "cells": [
  {
   "cell_type": "code",
   "execution_count": null,
   "metadata": {
    "collapsed": false
   },
   "outputs": [],
   "source": [
    "from rqalpha.api import *\n",
    "import traceback\n",
    "from datetime import *\n",
    "import pymysql\n",
    "import pandas as pd\n",
    "from rqalpha.utils.logger import user_log\n",
    "\n",
    "\n",
    "def dependency():\n",
    "    return [\"testFactor\"]\n",
    "\n",
    "\n",
    "def compute(startdt,enddt,context):\n",
    "    from rqalpha.mod.rqalpha_mod_alphaStar_factors.factor_data import DependingData\n",
    "    dData = DependingData(context)\n",
    "    return dData.getDependingData(\"testFactor\",startdt,enddt)\n",
    "\n",
    "if __name__ == \"__main__\":\n",
    "    #仅展示怎么测试计算逻辑\n",
    "    from rqalpha.utils import RqAttrDict\n",
    "    config= {\"factor_data_path\":\"E:\\\\evilAlpha\\\\test\",\"factor_data_init_date\":\"2017-01-01\",\"extra\":{\"jydb\":\"172.18.44.5\"}}\n",
    "    conf = RqAttrDict(config)\n",
    "    from rqalpha.mod.rqalpha_mod_alphaStar_factors.factor_context import FactorContext\n",
    "    context = FactorContext(conf)\n",
    "    context.registerDepending(dependency())\n",
    "    fValue = compute(datetime(2017,6,8),datetime(2017,7,1),context)\n",
    "    # _fValue_aDay = fValue.iloc[0]\n",
    "    print(fValue)\n",
    "    print(fValue.index)"
   ]
  },
  {
   "cell_type": "code",
   "execution_count": 2,
   "metadata": {
    "collapsed": false
   },
   "outputs": [
    {
     "name": "stderr",
     "output_type": "stream",
     "text": [
      "Traceback (most recent call last):\n",
      "  File \"D:\\Program Files\\Anaconda3\\envs\\rqalpha\\lib\\site-packages\\rqalpha-3.0.9-py3.5.egg\\rqalpha\\mod\\rqalpha_mod_alphaStar_factors\\evaluate.py\", line 71, in evaluateRun\n",
      "    fValue = getFactorsTmp(env,config=config)\n",
      "  File \"D:\\Program Files\\Anaconda3\\envs\\rqalpha\\lib\\site-packages\\rqalpha-3.0.9-py3.5.egg\\rqalpha\\mod\\rqalpha_mod_alphaStar_factors\\evaluate.py\", line 231, in getFactorsTmp\n",
      "    res = user_factor.compute(env.trading_dt,config.base.end_date)\n",
      "  File \"D:\\Program Files\\Anaconda3\\envs\\rqalpha\\lib\\site-packages\\rqalpha-3.0.9-py3.5.egg\\rqalpha\\mod\\rqalpha_mod_alphaStar_factors\\factor.py\", line 38, in compute\n",
      "    return self._compute(startdt, enddt,self._ucontext)\n",
      "  File \"./testDependency.ipynb\", line 16, in compute\n",
      "    \"2017-06-08          NaN      11.0313      74.6204      53.0669      14.3318   \\n\",\n",
      "  File \"D:\\Program Files\\Anaconda3\\envs\\rqalpha\\lib\\site-packages\\rqalpha-3.0.9-py3.5.egg\\rqalpha\\mod\\rqalpha_mod_alphaStar_factors\\factor_data.py\", line 113, in getDependingData\n",
      "    return FactorData(fname=fname,path=modconfig.factor_data_path,defaultInitDate=modconfig.factor_data_init_date)\\\n",
      "  File \"D:\\Program Files\\Anaconda3\\envs\\rqalpha\\lib\\site-packages\\rqalpha-3.0.9-py3.5.egg\\rqalpha\\mod\\rqalpha_mod_alphaStar_factors\\factor_data.py\", line 25, in __init__\n",
      "    self.create()\n",
      "  File \"D:\\Program Files\\Anaconda3\\envs\\rqalpha\\lib\\site-packages\\rqalpha-3.0.9-py3.5.egg\\rqalpha\\mod\\rqalpha_mod_alphaStar_factors\\factor_data.py\", line 33, in create\n",
      "    os.mkdir(self._factorPath)\n",
      "FileNotFoundError: [WinError 3] 系统找不到指定的路径。: 'E:\\\\evilAlpha\\\\rqalpha\\\\test\\\\testFactor'\n"
     ]
    },
    {
     "ename": "AttributeError",
     "evalue": "'OutStream' object has no attribute 'buffer'",
     "output_type": "error",
     "traceback": [
      "\u001b[1;31m---------------------------------------------------------------------------\u001b[0m",
      "\u001b[1;31mFileNotFoundError\u001b[0m                         Traceback (most recent call last)",
      "\u001b[1;32mD:\\Program Files\\Anaconda3\\envs\\rqalpha\\lib\\site-packages\\rqalpha-3.0.9-py3.5.egg\\rqalpha\\mod\\rqalpha_mod_alphaStar_factors\\evaluate.py\u001b[0m in \u001b[0;36mevaluateRun\u001b[1;34m(fname, config)\u001b[0m\n\u001b[0;32m     70\u001b[0m         \u001b[1;32melse\u001b[0m\u001b[1;33m:\u001b[0m\u001b[1;33m\u001b[0m\u001b[0m\n\u001b[1;32m---> 71\u001b[1;33m             \u001b[0mfValue\u001b[0m \u001b[1;33m=\u001b[0m \u001b[0mgetFactorsTmp\u001b[0m\u001b[1;33m(\u001b[0m\u001b[0menv\u001b[0m\u001b[1;33m,\u001b[0m\u001b[0mconfig\u001b[0m\u001b[1;33m=\u001b[0m\u001b[0mconfig\u001b[0m\u001b[1;33m)\u001b[0m\u001b[1;33m\u001b[0m\u001b[0m\n\u001b[0m\u001b[0;32m     72\u001b[0m         \u001b[0msystem_log\u001b[0m\u001b[1;33m.\u001b[0m\u001b[0minfo\u001b[0m\u001b[1;33m(\u001b[0m\u001b[1;34m\"get factor value success\"\u001b[0m\u001b[1;33m)\u001b[0m\u001b[1;33m\u001b[0m\u001b[0m\n",
      "\u001b[1;32mD:\\Program Files\\Anaconda3\\envs\\rqalpha\\lib\\site-packages\\rqalpha-3.0.9-py3.5.egg\\rqalpha\\mod\\rqalpha_mod_alphaStar_factors\\evaluate.py\u001b[0m in \u001b[0;36mgetFactorsTmp\u001b[1;34m(env, config)\u001b[0m\n\u001b[0;32m    230\u001b[0m \u001b[1;33m\u001b[0m\u001b[0m\n\u001b[1;32m--> 231\u001b[1;33m     \u001b[0mres\u001b[0m \u001b[1;33m=\u001b[0m \u001b[0muser_factor\u001b[0m\u001b[1;33m.\u001b[0m\u001b[0mcompute\u001b[0m\u001b[1;33m(\u001b[0m\u001b[0menv\u001b[0m\u001b[1;33m.\u001b[0m\u001b[0mtrading_dt\u001b[0m\u001b[1;33m,\u001b[0m\u001b[0mconfig\u001b[0m\u001b[1;33m.\u001b[0m\u001b[0mbase\u001b[0m\u001b[1;33m.\u001b[0m\u001b[0mend_date\u001b[0m\u001b[1;33m)\u001b[0m\u001b[1;33m\u001b[0m\u001b[0m\n\u001b[0m\u001b[0;32m    232\u001b[0m     \u001b[1;32mreturn\u001b[0m \u001b[0mres\u001b[0m\u001b[1;33m\u001b[0m\u001b[0m\n",
      "\u001b[1;32mD:\\Program Files\\Anaconda3\\envs\\rqalpha\\lib\\site-packages\\rqalpha-3.0.9-py3.5.egg\\rqalpha\\mod\\rqalpha_mod_alphaStar_factors\\factor.py\u001b[0m in \u001b[0;36mcompute\u001b[1;34m(self, startdt, enddt)\u001b[0m\n\u001b[0;32m     37\u001b[0m         \u001b[1;32mwith\u001b[0m \u001b[0mModifyExceptionFromType\u001b[0m\u001b[1;33m(\u001b[0m\u001b[0mEXC_TYPE\u001b[0m\u001b[1;33m.\u001b[0m\u001b[0mUSER_EXC\u001b[0m\u001b[1;33m)\u001b[0m\u001b[1;33m:\u001b[0m\u001b[1;33m\u001b[0m\u001b[0m\n\u001b[1;32m---> 38\u001b[1;33m             \u001b[1;32mreturn\u001b[0m \u001b[0mself\u001b[0m\u001b[1;33m.\u001b[0m\u001b[0m_compute\u001b[0m\u001b[1;33m(\u001b[0m\u001b[0mstartdt\u001b[0m\u001b[1;33m,\u001b[0m \u001b[0menddt\u001b[0m\u001b[1;33m,\u001b[0m\u001b[0mself\u001b[0m\u001b[1;33m.\u001b[0m\u001b[0m_ucontext\u001b[0m\u001b[1;33m)\u001b[0m\u001b[1;33m\u001b[0m\u001b[0m\n\u001b[0m\u001b[0;32m     39\u001b[0m \u001b[1;33m\u001b[0m\u001b[0m\n",
      "\u001b[1;32mD:\\Program Files\\Anaconda3\\envs\\rqalpha\\lib\\site-packages\\rqalpha-3.0.9-py3.5.egg\\rqalpha\\user_module.py\u001b[0m in \u001b[0;36mcompute\u001b[1;34m(startdt, enddt, context)\u001b[0m\n\u001b[0;32m     15\u001b[0m       \u001b[1;34m\"date                                                                          \\n\"\u001b[0m\u001b[1;33m,\u001b[0m\u001b[1;33m\u001b[0m\u001b[0m\n\u001b[1;32m---> 16\u001b[1;33m       \u001b[1;34m\"2017-06-08          NaN      11.0313      74.6204      53.0669      14.3318   \\n\"\u001b[0m\u001b[1;33m,\u001b[0m\u001b[1;33m\u001b[0m\u001b[0m\n\u001b[0m\u001b[0;32m     17\u001b[0m       \u001b[1;34m\"2017-06-09          NaN      11.0313      74.6204      53.2679      14.7690   \\n\"\u001b[0m\u001b[1;33m,\u001b[0m\u001b[1;33m\u001b[0m\u001b[0m\n",
      "\u001b[1;32mD:\\Program Files\\Anaconda3\\envs\\rqalpha\\lib\\site-packages\\rqalpha-3.0.9-py3.5.egg\\rqalpha\\mod\\rqalpha_mod_alphaStar_factors\\factor_data.py\u001b[0m in \u001b[0;36mgetDependingData\u001b[1;34m(self, fname, startdt, enddt)\u001b[0m\n\u001b[0;32m    112\u001b[0m         \u001b[0mmodconfig\u001b[0m \u001b[1;33m=\u001b[0m \u001b[0mself\u001b[0m\u001b[1;33m.\u001b[0m\u001b[0m_ucontext\u001b[0m\u001b[1;33m.\u001b[0m\u001b[0mmodconfig\u001b[0m\u001b[1;33m\u001b[0m\u001b[0m\n\u001b[1;32m--> 113\u001b[1;33m         \u001b[1;32mreturn\u001b[0m \u001b[0mFactorData\u001b[0m\u001b[1;33m(\u001b[0m\u001b[0mfname\u001b[0m\u001b[1;33m=\u001b[0m\u001b[0mfname\u001b[0m\u001b[1;33m,\u001b[0m\u001b[0mpath\u001b[0m\u001b[1;33m=\u001b[0m\u001b[0mmodconfig\u001b[0m\u001b[1;33m.\u001b[0m\u001b[0mfactor_data_path\u001b[0m\u001b[1;33m,\u001b[0m\u001b[0mdefaultInitDate\u001b[0m\u001b[1;33m=\u001b[0m\u001b[0mmodconfig\u001b[0m\u001b[1;33m.\u001b[0m\u001b[0mfactor_data_init_date\u001b[0m\u001b[1;33m)\u001b[0m\u001b[0;31m\\\u001b[0m\u001b[1;33m\u001b[0m\u001b[0m\n\u001b[0m\u001b[0;32m    114\u001b[0m             \u001b[1;33m.\u001b[0m\u001b[0mload\u001b[0m\u001b[1;33m(\u001b[0m\u001b[0mstartdt\u001b[0m\u001b[1;33m,\u001b[0m\u001b[0menddt\u001b[0m\u001b[1;33m)\u001b[0m\u001b[1;33m\u001b[0m\u001b[0m\n",
      "\u001b[1;32mD:\\Program Files\\Anaconda3\\envs\\rqalpha\\lib\\site-packages\\rqalpha-3.0.9-py3.5.egg\\rqalpha\\mod\\rqalpha_mod_alphaStar_factors\\factor_data.py\u001b[0m in \u001b[0;36m__init__\u001b[1;34m(self, fname, path, defaultInitDate)\u001b[0m\n\u001b[0;32m     24\u001b[0m         \u001b[0mself\u001b[0m\u001b[1;33m.\u001b[0m\u001b[0m_defaultInitDate\u001b[0m \u001b[1;33m=\u001b[0m \u001b[0mdefaultInitDate\u001b[0m \u001b[1;32mif\u001b[0m \u001b[0mdefaultInitDate\u001b[0m \u001b[1;32mis\u001b[0m \u001b[1;32mnot\u001b[0m \u001b[1;32mNone\u001b[0m \u001b[1;32melse\u001b[0m \u001b[0mdate\u001b[0m\u001b[1;33m(\u001b[0m\u001b[1;36m1990\u001b[0m\u001b[1;33m,\u001b[0m\u001b[1;36m1\u001b[0m\u001b[1;33m,\u001b[0m\u001b[1;36m1\u001b[0m\u001b[1;33m)\u001b[0m\u001b[1;33m\u001b[0m\u001b[0m\n\u001b[1;32m---> 25\u001b[1;33m         \u001b[0mself\u001b[0m\u001b[1;33m.\u001b[0m\u001b[0mcreate\u001b[0m\u001b[1;33m(\u001b[0m\u001b[1;33m)\u001b[0m\u001b[1;33m\u001b[0m\u001b[0m\n\u001b[0m\u001b[0;32m     26\u001b[0m \u001b[1;33m\u001b[0m\u001b[0m\n",
      "\u001b[1;32mD:\\Program Files\\Anaconda3\\envs\\rqalpha\\lib\\site-packages\\rqalpha-3.0.9-py3.5.egg\\rqalpha\\mod\\rqalpha_mod_alphaStar_factors\\factor_data.py\u001b[0m in \u001b[0;36mcreate\u001b[1;34m(self)\u001b[0m\n\u001b[0;32m     32\u001b[0m         \u001b[1;32mif\u001b[0m \u001b[1;32mnot\u001b[0m \u001b[0mos\u001b[0m\u001b[1;33m.\u001b[0m\u001b[0mpath\u001b[0m\u001b[1;33m.\u001b[0m\u001b[0mexists\u001b[0m\u001b[1;33m(\u001b[0m\u001b[0mself\u001b[0m\u001b[1;33m.\u001b[0m\u001b[0m_factorPath\u001b[0m\u001b[1;33m)\u001b[0m\u001b[1;33m:\u001b[0m\u001b[1;33m\u001b[0m\u001b[0m\n\u001b[1;32m---> 33\u001b[1;33m             \u001b[0mos\u001b[0m\u001b[1;33m.\u001b[0m\u001b[0mmkdir\u001b[0m\u001b[1;33m(\u001b[0m\u001b[0mself\u001b[0m\u001b[1;33m.\u001b[0m\u001b[0m_factorPath\u001b[0m\u001b[1;33m)\u001b[0m\u001b[1;33m\u001b[0m\u001b[0m\n\u001b[0m\u001b[0;32m     34\u001b[0m \u001b[1;33m\u001b[0m\u001b[0m\n",
      "\u001b[1;31mFileNotFoundError\u001b[0m: [WinError 3] 系统找不到指定的路径。: 'E:\\\\evilAlpha\\\\rqalpha\\\\test\\\\testFactor'",
      "\nDuring handling of the above exception, another exception occurred:\n",
      "\u001b[1;31mAttributeError\u001b[0m                            Traceback (most recent call last)",
      "\u001b[1;32m<ipython-input-2-5405f9428105>\u001b[0m in \u001b[0;36m<module>\u001b[1;34m()\u001b[0m\n\u001b[0;32m     11\u001b[0m \u001b[0mfactor_file_path\u001b[0m \u001b[1;33m=\u001b[0m \u001b[1;34m\"./testDependency.ipynb\"\u001b[0m\u001b[1;33m\u001b[0m\u001b[0m\n\u001b[0;32m     12\u001b[0m \u001b[1;33m\u001b[0m\u001b[0m\n\u001b[1;32m---> 13\u001b[1;33m \u001b[0mevaluate_file\u001b[0m\u001b[1;33m(\u001b[0m\u001b[0mfactor_file_path\u001b[0m\u001b[1;33m=\u001b[0m\u001b[0mfactor_file_path\u001b[0m\u001b[1;33m,\u001b[0m\u001b[0mconfig\u001b[0m\u001b[1;33m=\u001b[0m\u001b[0mconfig\u001b[0m\u001b[1;33m,\u001b[0m\u001b[0mconfig_file\u001b[0m \u001b[1;33m=\u001b[0m \u001b[1;34m\"../config_factor.yml\"\u001b[0m\u001b[1;33m)\u001b[0m\u001b[1;33m\u001b[0m\u001b[0m\n\u001b[0m",
      "\u001b[1;32mD:\\Program Files\\Anaconda3\\envs\\rqalpha\\lib\\site-packages\\rqalpha-3.0.9-py3.5.egg\\rqalpha\\mod\\rqalpha_mod_alphaStar_factors\\__init__.py\u001b[0m in \u001b[0;36mevaluate_file\u001b[1;34m(factor_file_path, config, config_file)\u001b[0m\n\u001b[0;32m     99\u001b[0m     \u001b[0mfname\u001b[0m \u001b[1;33m=\u001b[0m \u001b[0mos\u001b[0m\u001b[1;33m.\u001b[0m\u001b[0mpath\u001b[0m\u001b[1;33m.\u001b[0m\u001b[0mbasename\u001b[0m\u001b[1;33m(\u001b[0m\u001b[0mfactor_file_path\u001b[0m\u001b[1;33m)\u001b[0m\u001b[1;33m.\u001b[0m\u001b[0msplit\u001b[0m\u001b[1;33m(\u001b[0m\u001b[1;34m\".\"\u001b[0m\u001b[1;33m)\u001b[0m\u001b[1;33m[\u001b[0m\u001b[1;36m0\u001b[0m\u001b[1;33m]\u001b[0m\u001b[1;33m\u001b[0m\u001b[0m\n\u001b[0;32m    100\u001b[0m     \u001b[0mclear_all_cached_functions\u001b[0m\u001b[1;33m(\u001b[0m\u001b[1;33m)\u001b[0m\u001b[1;33m\u001b[0m\u001b[0m\n\u001b[1;32m--> 101\u001b[1;33m     \u001b[0mevaluateRun\u001b[0m\u001b[1;33m(\u001b[0m\u001b[0mfname\u001b[0m\u001b[1;33m,\u001b[0m\u001b[0mconfig\u001b[0m\u001b[1;33m)\u001b[0m\u001b[1;33m\u001b[0m\u001b[0m\n\u001b[0m\u001b[0;32m    102\u001b[0m \u001b[1;33m\u001b[0m\u001b[0m\n\u001b[0;32m    103\u001b[0m \u001b[1;33m\u001b[0m\u001b[0m\n",
      "\u001b[1;32mD:\\Program Files\\Anaconda3\\envs\\rqalpha\\lib\\site-packages\\rqalpha-3.0.9-py3.5.egg\\rqalpha\\mod\\rqalpha_mod_alphaStar_factors\\evaluate.py\u001b[0m in \u001b[0;36mevaluateRun\u001b[1;34m(fname, config)\u001b[0m\n\u001b[0;32m     90\u001b[0m         \u001b[0muser_exc\u001b[0m \u001b[1;33m=\u001b[0m \u001b[0mcreate_custom_exception\u001b[0m\u001b[1;33m(\u001b[0m\u001b[0mexc_type\u001b[0m\u001b[1;33m,\u001b[0m \u001b[0mexc_val\u001b[0m\u001b[1;33m,\u001b[0m \u001b[0mexc_tb\u001b[0m\u001b[1;33m,\u001b[0m \u001b[0mconfig\u001b[0m\u001b[1;33m.\u001b[0m\u001b[0mbase\u001b[0m\u001b[1;33m.\u001b[0m\u001b[0mfactor_file\u001b[0m\u001b[1;33m)\u001b[0m\u001b[1;33m\u001b[0m\u001b[0m\n\u001b[0;32m     91\u001b[0m \u001b[1;33m\u001b[0m\u001b[0m\n\u001b[1;32m---> 92\u001b[1;33m         \u001b[0mcode\u001b[0m \u001b[1;33m=\u001b[0m \u001b[0m_exception_handler\u001b[0m\u001b[1;33m(\u001b[0m\u001b[0muser_exc\u001b[0m\u001b[1;33m)\u001b[0m\u001b[1;33m\u001b[0m\u001b[0m\n\u001b[0m\u001b[0;32m     93\u001b[0m         \u001b[0mmod_handler\u001b[0m\u001b[1;33m.\u001b[0m\u001b[0mtear_down\u001b[0m\u001b[1;33m(\u001b[0m\u001b[0mcode\u001b[0m\u001b[1;33m,\u001b[0m \u001b[0muser_exc\u001b[0m\u001b[1;33m)\u001b[0m\u001b[1;33m\u001b[0m\u001b[0m\n\u001b[0;32m     94\u001b[0m     \u001b[1;32melse\u001b[0m\u001b[1;33m:\u001b[0m\u001b[1;33m\u001b[0m\u001b[0m\n",
      "\u001b[1;32mD:\\Program Files\\Anaconda3\\envs\\rqalpha\\lib\\site-packages\\rqalpha-3.0.9-py3.5.egg\\rqalpha\\main.py\u001b[0m in \u001b[0;36m_exception_handler\u001b[1;34m(e)\u001b[0m\n\u001b[0;32m    326\u001b[0m \u001b[1;33m\u001b[0m\u001b[0m\n\u001b[0;32m    327\u001b[0m \u001b[1;32mdef\u001b[0m \u001b[0m_exception_handler\u001b[0m\u001b[1;33m(\u001b[0m\u001b[0me\u001b[0m\u001b[1;33m)\u001b[0m\u001b[1;33m:\u001b[0m\u001b[1;33m\u001b[0m\u001b[0m\n\u001b[1;32m--> 328\u001b[1;33m     \u001b[0mbetter_exceptions\u001b[0m\u001b[1;33m.\u001b[0m\u001b[0mexcepthook\u001b[0m\u001b[1;33m(\u001b[0m\u001b[0me\u001b[0m\u001b[1;33m.\u001b[0m\u001b[0merror\u001b[0m\u001b[1;33m.\u001b[0m\u001b[0mexc_type\u001b[0m\u001b[1;33m,\u001b[0m \u001b[0me\u001b[0m\u001b[1;33m.\u001b[0m\u001b[0merror\u001b[0m\u001b[1;33m.\u001b[0m\u001b[0mexc_val\u001b[0m\u001b[1;33m,\u001b[0m \u001b[0me\u001b[0m\u001b[1;33m.\u001b[0m\u001b[0merror\u001b[0m\u001b[1;33m.\u001b[0m\u001b[0mexc_tb\u001b[0m\u001b[1;33m)\u001b[0m\u001b[1;33m\u001b[0m\u001b[0m\n\u001b[0m\u001b[0;32m    329\u001b[0m     \u001b[0muser_system_log\u001b[0m\u001b[1;33m.\u001b[0m\u001b[0merror\u001b[0m\u001b[1;33m(\u001b[0m\u001b[0me\u001b[0m\u001b[1;33m.\u001b[0m\u001b[0merror\u001b[0m\u001b[1;33m)\u001b[0m\u001b[1;33m\u001b[0m\u001b[0m\n\u001b[0;32m    330\u001b[0m     \u001b[1;32mif\u001b[0m \u001b[1;32mnot\u001b[0m \u001b[0mis_user_exc\u001b[0m\u001b[1;33m(\u001b[0m\u001b[0me\u001b[0m\u001b[1;33m.\u001b[0m\u001b[0merror\u001b[0m\u001b[1;33m.\u001b[0m\u001b[0mexc_val\u001b[0m\u001b[1;33m)\u001b[0m\u001b[1;33m:\u001b[0m\u001b[1;33m\u001b[0m\u001b[0m\n",
      "\u001b[1;32mD:\\Program Files\\Anaconda3\\envs\\rqalpha\\lib\\site-packages\\better_exceptions-0.1.8-py3.5.egg\\better_exceptions\\__init__.py\u001b[0m in \u001b[0;36mexcepthook\u001b[1;34m(exc, value, tb)\u001b[0m\n\u001b[0;32m    342\u001b[0m \u001b[1;32mdef\u001b[0m \u001b[0mexcepthook\u001b[0m\u001b[1;33m(\u001b[0m\u001b[0mexc\u001b[0m\u001b[1;33m,\u001b[0m \u001b[0mvalue\u001b[0m\u001b[1;33m,\u001b[0m \u001b[0mtb\u001b[0m\u001b[1;33m)\u001b[0m\u001b[1;33m:\u001b[0m\u001b[1;33m\u001b[0m\u001b[0m\n\u001b[0;32m    343\u001b[0m     \u001b[0mformatted\u001b[0m \u001b[1;33m=\u001b[0m \u001b[0mformat_exception\u001b[0m\u001b[1;33m(\u001b[0m\u001b[0mexc\u001b[0m\u001b[1;33m,\u001b[0m \u001b[0mvalue\u001b[0m\u001b[1;33m,\u001b[0m \u001b[0mtb\u001b[0m\u001b[1;33m)\u001b[0m\u001b[1;33m\u001b[0m\u001b[0m\n\u001b[1;32m--> 344\u001b[1;33m     \u001b[0mwrite_stream\u001b[0m\u001b[1;33m(\u001b[0m\u001b[0mformatted\u001b[0m\u001b[1;33m)\u001b[0m\u001b[1;33m\u001b[0m\u001b[0m\n\u001b[0m\u001b[0;32m    345\u001b[0m \u001b[1;33m\u001b[0m\u001b[0m\n\u001b[0;32m    346\u001b[0m \u001b[1;33m\u001b[0m\u001b[0m\n",
      "\u001b[1;32mD:\\Program Files\\Anaconda3\\envs\\rqalpha\\lib\\site-packages\\better_exceptions-0.1.8-py3.5.egg\\better_exceptions\\__init__.py\u001b[0m in \u001b[0;36mwrite_stream\u001b[1;34m(data)\u001b[0m\n\u001b[0;32m    323\u001b[0m \u001b[1;33m\u001b[0m\u001b[0m\n\u001b[0;32m    324\u001b[0m     \u001b[1;32mif\u001b[0m \u001b[0mPY3\u001b[0m\u001b[1;33m:\u001b[0m\u001b[1;33m\u001b[0m\u001b[0m\n\u001b[1;32m--> 325\u001b[1;33m         \u001b[0mSTREAM\u001b[0m\u001b[1;33m.\u001b[0m\u001b[0mbuffer\u001b[0m\u001b[1;33m.\u001b[0m\u001b[0mwrite\u001b[0m\u001b[1;33m(\u001b[0m\u001b[0mdata\u001b[0m\u001b[1;33m)\u001b[0m\u001b[1;33m\u001b[0m\u001b[0m\n\u001b[0m\u001b[0;32m    326\u001b[0m     \u001b[1;32melse\u001b[0m\u001b[1;33m:\u001b[0m\u001b[1;33m\u001b[0m\u001b[0m\n\u001b[0;32m    327\u001b[0m         \u001b[0mSTREAM\u001b[0m\u001b[1;33m.\u001b[0m\u001b[0mwrite\u001b[0m\u001b[1;33m(\u001b[0m\u001b[0mdata\u001b[0m\u001b[1;33m)\u001b[0m\u001b[1;33m\u001b[0m\u001b[0m\n",
      "\u001b[1;32mD:\\Program Files\\Anaconda3\\envs\\rqalpha\\lib\\site-packages\\colorama\\ansitowin32.py\u001b[0m in \u001b[0;36m__getattr__\u001b[1;34m(self, name)\u001b[0m\n\u001b[0;32m     35\u001b[0m \u001b[1;33m\u001b[0m\u001b[0m\n\u001b[0;32m     36\u001b[0m     \u001b[1;32mdef\u001b[0m \u001b[0m__getattr__\u001b[0m\u001b[1;33m(\u001b[0m\u001b[0mself\u001b[0m\u001b[1;33m,\u001b[0m \u001b[0mname\u001b[0m\u001b[1;33m)\u001b[0m\u001b[1;33m:\u001b[0m\u001b[1;33m\u001b[0m\u001b[0m\n\u001b[1;32m---> 37\u001b[1;33m         \u001b[1;32mreturn\u001b[0m \u001b[0mgetattr\u001b[0m\u001b[1;33m(\u001b[0m\u001b[0mself\u001b[0m\u001b[1;33m.\u001b[0m\u001b[0m__wrapped\u001b[0m\u001b[1;33m,\u001b[0m \u001b[0mname\u001b[0m\u001b[1;33m)\u001b[0m\u001b[1;33m\u001b[0m\u001b[0m\n\u001b[0m\u001b[0;32m     38\u001b[0m \u001b[1;33m\u001b[0m\u001b[0m\n\u001b[0;32m     39\u001b[0m     \u001b[1;32mdef\u001b[0m \u001b[0mwrite\u001b[0m\u001b[1;33m(\u001b[0m\u001b[0mself\u001b[0m\u001b[1;33m,\u001b[0m \u001b[0mtext\u001b[0m\u001b[1;33m)\u001b[0m\u001b[1;33m:\u001b[0m\u001b[1;33m\u001b[0m\u001b[0m\n",
      "\u001b[1;31mAttributeError\u001b[0m: 'OutStream' object has no attribute 'buffer'"
     ]
    }
   ],
   "source": [
    "# evaluateFileDemo\n",
    "from rqalpha.mod.rqalpha_mod_alphaStar_factors import evaluate_file\n",
    "\n",
    "config = {\n",
    "  \"base\": {\n",
    "    \"start_date\": \"2017-06-01\",\n",
    "    \"end_date\": \"2017-7-01\",\n",
    "  },\n",
    "}\n",
    "\n",
    "factor_file_path = \"./testDependency.ipynb\"\n",
    "\n",
    "evaluate_file(factor_file_path=factor_file_path,config=config,config_file = \"../config_factor.yml\")"
   ]
  }
 ],
 "metadata": {
  "anaconda-cloud": {},
  "kernelspec": {
   "display_name": "Python [conda env:rqalpha]",
   "language": "python",
   "name": "conda-env-rqalpha-py"
  },
  "language_info": {
   "codemirror_mode": {
    "name": "ipython",
    "version": 3
   },
   "file_extension": ".py",
   "mimetype": "text/x-python",
   "name": "python",
   "nbconvert_exporter": "python",
   "pygments_lexer": "ipython3",
   "version": "3.5.2"
  }
 },
 "nbformat": 4,
 "nbformat_minor": 0
}

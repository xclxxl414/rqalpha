{
 "cells": [
  {
   "cell_type": "code",
   "execution_count": null,
   "metadata": {
    "collapsed": false
   },
   "outputs": [],
   "source": [
    "#coding=utf-8\n",
    "\n",
    "\"\"\"\n",
    "@author: evilXu\n",
    "@file: testFactor.py\n",
    "@time: 2017/11/16 17:48\n",
    "@description: \n",
    "\"\"\"\n",
    "\n",
    "from rqalpha.api import *\n",
    "import traceback\n",
    "from datetime import *\n",
    "import pymysql\n",
    "import pandas as pd\n",
    "from rqalpha.utils.logger import user_log\n",
    "\n",
    "\n",
    "def init():\n",
    "    user_log.info(\"test Factor init\")\n",
    "\n",
    "\n",
    "def compute(startdt,enddt):\n",
    "    '''\n",
    "    PE\n",
    "    :param startdt:\n",
    "    :param enddt:\n",
    "    :return:\n",
    "    '''\n",
    "    user_log.info(\"testFactor compute\")\n",
    "    _cnnConf = {\"host\":\"172.18.44.231\",\"port\":3306,\"db\":\"jydb\",\"user\":\"quant1\",\"passwd\":\"quant1@591\"}\n",
    "    jyConn = pymysql.connect(host=_cnnConf.get(\"host\"), port=_cnnConf.get(\"port\") \\\n",
    "                                  , db=_cnnConf.get(\"db\"), user=_cnnConf.get(\"user\"),\n",
    "                                  passwd=_cnnConf.get(\"passwd\"), charset='utf8')\n",
    "    _category = [1, ]\n",
    "    _sectors = [1, 2, 6]\n",
    "    _sql = \"SELECT p.TradingDay,p.PE,a.SecuCode,a.SecuMarket\" \\\n",
    "                   \" FROM LC_DIndicesForValuation as p inner join secumain as a \"\\\n",
    "                    \"on a.innerCode=p.innerCode where a.SecuMarket in (83,90) \" \\\n",
    "                   \"and a.SecuCategory in (%s) and a.ListedSector in (%s) \" \\\n",
    "                   \"and a.ListedState!=9 and p.TradingDay between '%s' and '%s'\" % (\n",
    "                        \",\".join([str(i) for i in _category]), \",\".join([str(i) for i in _sectors])\n",
    "                        ,startdt.strftime('%Y-%m-%d'),\n",
    "                       enddt.strftime('%Y-%m-%d'))\n",
    "\n",
    "    # print(_sql)\n",
    "    _res = []\n",
    "    _res_tmp = []\n",
    "    try:\n",
    "        _now = datetime.now()\n",
    "        _cursor = jyConn.cursor()\n",
    "        _cursor.execute(_sql)\n",
    "        for _row in _cursor:\n",
    "            _res_tmp.append({\n",
    "                \"code\": _row[2] + \".\" + market(_row[3]),  # secumain.code(_row[0],_row[13]),#\n",
    "                \"date\": _row[0],\n",
    "                \"value\": float(_row[1])\n",
    "            })\n",
    "    except Exception as e:\n",
    "        traceback.print_exc()\n",
    "        return\n",
    "\n",
    "    _res_tmp = sorted(_res_tmp,key=lambda x:x['date'])\n",
    "    _res = []\n",
    "    if len(_res_tmp) >0:\n",
    "        _lastDt = _res_tmp[0]['date']\n",
    "        _adt = {\"date\":_lastDt}\n",
    "        for item in _res_tmp:\n",
    "            if item['date'] != _lastDt:\n",
    "                _res.append(_adt)\n",
    "                _lastDt = item['date']\n",
    "                _adt = {\"date\": _lastDt}\n",
    "            else:\n",
    "                _adt.update({item['code']:item['value']})\n",
    "        if len(_adt) > 1:\n",
    "            _res.append(_adt)\n",
    "    if len(_res) < 1:\n",
    "        return pd.DataFrame()\n",
    "    return pd.DataFrame(_res).set_index(['date'])\n",
    "    # print(\"testFactor\")\n",
    "                        \n",
    "def market(market=90):\n",
    "    if market == 83:\n",
    "        return 'XSHG'\n",
    "    elif market == 90:\n",
    "        return 'XSHE'\n",
    "    else:\n",
    "        return \"\"\n",
    "\n",
    "if __name__ == \"__main__\":\n",
    "    fValue = compute(datetime(2015,6,8),datetime(2015,7,1).date())\n",
    "    # _fValue_aDay = fValue.iloc[0]\n",
    "    print(fValue)\n",
    "    print(fValue.index)"
   ]
  },
  {
   "cell_type": "code",
   "execution_count": null,
   "metadata": {
    "collapsed": false
   },
   "outputs": [
    {
     "name": "stderr",
     "output_type": "stream",
     "text": [
      "WARNING: better_exceptions will only inspect code from the command line\n",
      "         when using: `python -m better_exceptions'. Otherwise, only code\n",
      "         loaded from files will be inspected!\n",
      "[2018-02-07 17:49:06.477828] DEBUG: system_log: evaluateRun\n",
      "2010-06-01 INFO test Factor init\n",
      "2010-06-01 INFO testFactor compute\n"
     ]
    }
   ],
   "source": [
    "# evaluateFileDemo\n",
    "from rqalpha.mod.rqalpha_mod_alphaStar_factors import evaluate_file\n",
    "\n",
    "config = {\n",
    "  \"base\": {\n",
    "    \"start_date\": \"2017-06-01\",\n",
    "    \"end_date\": \"2017-7-01\",\n",
    "  },\n",
    "}\n",
    "\n",
    "factor_file_path = \"./testFactor.ipynb\"\n",
    "\n",
    "evaluate_file(factor_file_path=factor_file_path,config=config,config_file = \"../config_factor.yml\")"
   ]
  },
  {
   "cell_type": "code",
   "execution_count": null,
   "metadata": {
    "collapsed": false
   },
   "outputs": [
    {
     "name": "stdout",
     "output_type": "stream",
     "text": [
      "The rqalpha.mod.rqalpha_mod_alphaStar_factors extension is already loaded. To reload it, use:\n",
      "  %reload_ext rqalpha.mod.rqalpha_mod_alphaStar_factors\n"
     ]
    },
    {
     "name": "stderr",
     "output_type": "stream",
     "text": [
      "2017-01-03 INFO test Factor init\n",
      "2017-01-03 INFO testFactor compute\n",
      "[2018-02-05 19:04:42.861235] INFO: system_log: get factor value success\n"
     ]
    }
   ],
   "source": [
    "%load_ext rqalpha.mod.rqalpha_mod_alphaStar_factors\n",
    "%evaluate -s 20170101 -e 20170131 -f ./testFactor.ipynb -rt r --config ../config_factor.yml"
   ]
  }
 ],
 "metadata": {
  "anaconda-cloud": {},
  "kernelspec": {
   "display_name": "Python [conda env:rqalpha]",
   "language": "python",
   "name": "conda-env-rqalpha-py"
  },
  "language_info": {
   "codemirror_mode": {
    "name": "ipython",
    "version": 3
   },
   "file_extension": ".py",
   "mimetype": "text/x-python",
   "name": "python",
   "nbconvert_exporter": "python",
   "pygments_lexer": "ipython3",
   "version": "3.5.2"
  }
 },
 "nbformat": 4,
 "nbformat_minor": 1
}

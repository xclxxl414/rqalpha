{
 "cells": [
  {
   "cell_type": "code",
   "execution_count": null,
   "metadata": {
    "collapsed": true
   },
   "outputs": [],
   "source": [
    "#coding=utf-8\n",
    "\n",
    "from rqalpha.api import *\n",
    "import traceback\n",
    "from datetime import *\n",
    "from sqlalchemy import create_engine\n",
    "import pandas as pd\n",
    "from rqalpha.utils.logger import user_log\n",
    "from numpy import log\n",
    "\n",
    "def dependency():\n",
    "    return ['market_value']\n",
    "\n",
    "def market(market=90):\n",
    "    if market == 83:\n",
    "        return 'XSHG'\n",
    "    elif market == 90:\n",
    "        return 'XSHE'\n",
    "    else:\n",
    "        return \"\"\n",
    "\n",
    "def compute(startdt,enddt,context):\n",
    "    '''\n",
    "    对数市值\n",
    "    '''\n",
    "    #context.config 对应配置的extra部分\n",
    "    from rqalpha.mod.rqalpha_mod_alphaStar_factors.factor_data import DependingData\n",
    "    dData = DependingData(context)\n",
    "    return dData.getDependingData(\"market_value\",startdt,enddt).applymap(log)\n",
    "                    "
   ]
  },
  {
   "cell_type": "code",
   "execution_count": null,
   "metadata": {
    "collapsed": true
   },
   "outputs": [],
   "source": [
    "# evaluateFileDemo\n",
    "from rqalpha.mod.rqalpha_mod_alphaStar_factors import evaluate_file\n",
    "\n",
    "config = {\n",
    "  \"base\": {\n",
    "    \"start_date\": \"2010-01-01\",\n",
    "    \"end_date\": \"2018-04-01\",\n",
    "  },\n",
    "}\n",
    "\n",
    "factor_file_path = \"./market_value_log.ipynb\"\n",
    "\n",
    "evaluate_file(factor_file_path=factor_file_path,config=config,config_file = \"../config_factor.yml\")"
   ]
  }
 ],
 "metadata": {
  "anaconda-cloud": {},
  "kernelspec": {
   "display_name": "Python [conda env:rqalpha]",
   "language": "python",
   "name": "conda-env-rqalpha-py"
  },
  "language_info": {
   "codemirror_mode": {
    "name": "ipython",
    "version": 3
   },
   "file_extension": ".py",
   "mimetype": "text/x-python",
   "name": "python",
   "nbconvert_exporter": "python",
   "pygments_lexer": "ipython3",
   "version": "3.5.2"
  }
 },
 "nbformat": 4,
 "nbformat_minor": 1
}

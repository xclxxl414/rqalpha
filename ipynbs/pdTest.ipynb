{
 "cells": [
  {
   "cell_type": "code",
   "execution_count": 11,
   "metadata": {
    "collapsed": false
   },
   "outputs": [
    {
     "name": "stdout",
     "output_type": "stream",
     "text": [
      "                 co0       co1       co2       co3\n",
      "2015-01-01  0.420803  0.167300  0.304596  0.007550\n",
      "2015-01-02  0.399405  0.329185  0.826581  0.679704\n",
      "<class 'datetime.datetime'>\n",
      "<class 'datetime.datetime'>\n"
     ]
    },
    {
     "data": {
      "text/plain": [
       "[(1,\n",
       "  datetime.datetime(2015, 1, 1, 0, 0),\n",
       "  0.4208027053004346,\n",
       "  0.1672996125899885,\n",
       "  0.3045958686339242,\n",
       "  0.007550005916727054),\n",
       " (2,\n",
       "  datetime.datetime(2015, 1, 2, 0, 0),\n",
       "  0.39940480410549084,\n",
       "  0.32918539198685304,\n",
       "  0.8265811846665809,\n",
       "  0.6797044168012963)]"
      ]
     },
     "execution_count": 11,
     "metadata": {},
     "output_type": "execute_result"
    }
   ],
   "source": [
    "import sqlite3\n",
    "\n",
    "import pandas as pd\n",
    "import random\n",
    "from datetime import *\n",
    "\n",
    "columns = 4\n",
    "rows = 2\n",
    "df = pd.DataFrame([[random.random() for j in range(columns)] for i in range(rows)], columns=list([\"co\"+str(i) for i in range(columns)]),index = [datetime(2015,1,1) + timedelta(days=i) for i in range(rows)])\n",
    "\n",
    "conn = sqlite3.connect(\":memory:\", detect_types=sqlite3.PARSE_DECLTYPES|sqlite3.PARSE_COLNAMES)\n",
    "\n",
    "_createSql = ('''CREATE TABLE IF NOT EXISTS %s( \n",
    "                    `id` INTEGER PRIMARY KEY,\n",
    "        `ts` timestamp DEFAULT NULL,\n",
    "        `v0` REAL  DEFAULT NULL,\n",
    "        `v1` REAL DEFAULT NULL,\n",
    "        `v2` REAL DEFAULT NULL,\n",
    "        `v3` REAL DEFAULT NULL)'''%(\"testTable\"))\n",
    "c = conn.cursor()\n",
    "c.execute(_createSql)\n",
    "conn.commit()\n",
    "\n",
    "print(df)\n",
    "def iterList(df):\n",
    "    for item in df.iterrows():\n",
    "        print(type(item[0].to_pydatetime()))\n",
    "        yield [item[0].to_pydatetime()] + list(item[1])\n",
    "        \n",
    "def write(df):\n",
    "    c.executemany(\"insert into testTable(ts,v0,v1,v2,v3) values(?,?,?,?,?)\",iterList(df))\n",
    "    conn.commit()\n",
    "    \n",
    "\n",
    "write(df)\n",
    "c.execute(\"select * from testTable\")\n",
    "c.fetchall()"
   ]
  },
  {
   "cell_type": "code",
   "execution_count": 8,
   "metadata": {
    "collapsed": false
   },
   "outputs": [
    {
     "name": "stdout",
     "output_type": "stream",
     "text": [
      "Thu Jan 25 18:34:06 2018    result.profile.price\n",
      "\n",
      "         13548402 function calls (13495536 primitive calls) in 101.302 seconds\n",
      "\n",
      "   Ordered by: cumulative time\n",
      "   List reduced from 5540 to 30 due to restriction <30>\n",
      "\n",
      "   ncalls  tottime  percall  cumtime  percall filename:lineno(function)\n",
      "    901/1    0.041    0.000  101.409  101.409 {built-in method builtins.exec}\n",
      "        1    0.000    0.000  101.409  101.409 test.py:59(test)\n",
      "        1    0.000    0.000  101.409  101.409 test.py:36(evaluate)\n",
      "        1    0.002    0.002   98.939   98.939 evaluate.py:54(evaluateRun)\n",
      "        1    0.071    0.071   50.629   50.629 evaluate.py:256(Prices)\n",
      "     3547    0.015    0.000   49.901    0.014 data_proxy.py:148(history_bars)\n",
      "     3547    0.094    0.000   49.874    0.014 base_data_source.py:155(history_bars)\n",
      "     3547    0.017    0.000   49.517    0.014 base_data_source.py:109(_all_day_bars_of)\n",
      "     3547    1.095    0.000   49.496    0.014 daybar_store.py:37(get_bars)\n",
      "    31930    0.597    0.000   45.415    0.001 carray_ext.pyx:1900(__getitem__)\n",
      "    29658    6.163    0.000   43.698    0.001 carray_ext.pyx:793(__getitem__)\n",
      "        1    0.000    0.000   40.886   40.886 evaluate.py:135(plot_result)\n",
      "        1    0.000    0.000   40.611   40.611 pyplot.py:237(show)\n",
      "        1    0.000    0.000   40.611   40.611 backend_bases.py:188(show)\n",
      "        1    0.000    0.000   39.759   39.759 backend_tkagg.py:1076(mainloop)\n",
      "        1    0.000    0.000   39.759   39.759 __init__.py:403(mainloop)\n",
      "        1   39.632   39.632   39.759   39.759 {method 'mainloop' of '_tkinter.tkapp' objects}\n",
      "    24513   34.839    0.001   37.525    0.002 carray_ext.pyx:763(read_chunk)\n",
      "        1    0.000    0.000    6.373    6.373 evaluate.py:230(getFactorsTmp)\n",
      "        1    0.023    0.023    4.868    4.868 factor.py:32(compute)\n",
      "        1    0.032    0.032    4.844    4.844 evaluateFileDemo.ipynb:23(compute)\n",
      "        3    0.000    0.000    4.308    1.436 cursors.py:147(execute)\n",
      "        3    0.000    0.000    4.308    1.436 cursors.py:319(_query)\n",
      "        3    0.000    0.000    4.308    1.436 connections.py:847(query)\n",
      "        3    0.000    0.000    4.307    1.436 connections.py:1046(_read_query_result)\n",
      "        3    0.000    0.000    4.307    1.436 connections.py:1338(read)\n",
      "        3    0.001    0.000    4.073    1.358 connections.py:1410(_read_result_packet)\n",
      "        3    0.106    0.035    4.071    1.357 connections.py:1443(_read_rowdata_packet)\n",
      "        1    0.029    0.029    3.791    3.791 evaluateFileDemo.ipynb:212(<listcomp>)\n",
      "    55091    0.081    0.000    3.763    0.000 evaluateFileDemo.ipynb:176(_readAYear)\n",
      "\n",
      "\n"
     ]
    },
    {
     "data": {
      "text/plain": [
       "<pstats.Stats at 0x1a6f0a68240>"
      ]
     },
     "execution_count": 8,
     "metadata": {},
     "output_type": "execute_result"
    }
   ],
   "source": [
    "import cProfile\n",
    " \n",
    "#直接把分析结果打印到控制台\n",
    "# cProfile.run(\"foo()\")\n",
    "#把分析结果保存到文件中,不过内容可读性差...需要调用pstats模块分析结果\n",
    "# cProfile.run(\"foo()\", \"result\")\n",
    "#还可以直接使用命令行进行操作\n",
    "#>python -m cProfile myscript.py -o result\n",
    "\n",
    "import pstats\n",
    "#创建Stats对象\n",
    "p = pstats.Stats(\"result.profile.price\")\n",
    "#这一行的效果和直接运行cProfile.run(\"foo()\")的显示效果是一样的\n",
    "# p.strip_dirs().sort_stats(-1).print_stats()\n",
    "#strip_dirs():从所有模块名中去掉无关的路径信息\n",
    "#sort_stats():把打印信息按照标准的module/name/line字符串进行排序\n",
    "#print_stats():打印出所有分析信息\n",
    "\n",
    "#按照函数名排序 \n",
    "# p.strip_dirs().sort_stats(\"name\").print_stats()\n",
    "\n",
    "#按照在一个函数中累积的运行时间进行排序\n",
    "#print_stats(3):只打印前3行函数的信息,参数还可为小数,表示前百分之几的函数信息\n",
    "p.strip_dirs().sort_stats(\"cumulative\").print_stats(30)\n",
    "\n",
    "#还有一种用法\n",
    "# p.sort_stats('time', 'cum').print_stats(.5, 'foo')\n",
    "#先按time排序,再按cumulative时间排序,然后打倒出前50%中含有函数信息\n",
    "\n",
    "#如果想知道有哪些函数调用了bar,可使用\n",
    "# p.print_callers(0.5, \"bar\")\n",
    "\n",
    "#同理,查看foo()函数中调用了哪些函数\n",
    "# p.print_callees(\"foo\")"
   ]
  }
 ],
 "metadata": {
  "anaconda-cloud": {},
  "kernelspec": {
   "display_name": "Python [default]",
   "language": "python",
   "name": "python3"
  },
  "language_info": {
   "codemirror_mode": {
    "name": "ipython",
    "version": 3
   },
   "file_extension": ".py",
   "mimetype": "text/x-python",
   "name": "python",
   "nbconvert_exporter": "python",
   "pygments_lexer": "ipython3",
   "version": "3.5.2"
  }
 },
 "nbformat": 4,
 "nbformat_minor": 1
}
